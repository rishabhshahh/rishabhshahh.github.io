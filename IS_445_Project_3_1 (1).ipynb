{
  "nbformat": 4,
  "nbformat_minor": 0,
  "metadata": {
    "colab": {
      "provenance": []
    },
    "kernelspec": {
      "name": "python3",
      "display_name": "Python 3"
    },
    "language_info": {
      "name": "python"
    }
  },
  "cells": [
    {
      "cell_type": "markdown",
      "source": [
        "# Crime in Chicago: A Year in Review\n",
        "**Authors**: Srikar Manikonda, Justin Ward, Vanisha Nagali, Rishabh Shah\n",
        "\n",
        "This interactive report analyzes a year of reported crimes in Chicago to uncover patterns in criminal activity, law enforcement response, and neighborhood characteristics. The insights here are made public using data visualization for ease of understanding and engagement."
      ],
      "metadata": {
        "id": "8UcLS32E4i1F"
      }
    },
    {
      "cell_type": "code",
      "source": [
        "import pandas as pd\n",
        "import altair as alt\n",
        "\n",
        "alt.data_transformers.disable_max_rows()\n",
        "\n",
        "df = pd.read_csv(\"Crimes_-_One_year_prior_to_present (1).csv\")\n",
        "df['DATE  OF OCCURRENCE'] = pd.to_datetime(df['DATE  OF OCCURRENCE'], errors='coerce')\n",
        "df = df.dropna(subset=['DATE  OF OCCURRENCE'])\n",
        "df['Month'] = df['DATE  OF OCCURRENCE'].dt.to_period('M').astype(str)"
      ],
      "metadata": {
        "colab": {
          "base_uri": "https://localhost:8080/"
        },
        "id": "8LzsHMyn4pQk",
        "outputId": "2ccdcdbf-3a88-43af-f8f6-c8664ed89f88"
      },
      "execution_count": 1,
      "outputs": [
        {
          "output_type": "stream",
          "name": "stderr",
          "text": [
            "<ipython-input-1-1adbf4b76f7a>:7: UserWarning: Could not infer format, so each element will be parsed individually, falling back to `dateutil`. To ensure parsing is consistent and as-expected, please specify a format.\n",
            "  df['DATE  OF OCCURRENCE'] = pd.to_datetime(df['DATE  OF OCCURRENCE'], errors='coerce')\n"
          ]
        }
      ]
    },
    {
      "cell_type": "code",
      "source": [
        "theft_df = df[df[' PRIMARY DESCRIPTION'] == 'THEFT']\n",
        "monthly_theft = theft_df.groupby('Month').size().reset_index(name='Count')\n",
        "\n",
        "theft_chart=alt.Chart(monthly_theft).mark_line(point=True).encode(\n",
        "    x=alt.X('Month:T', title='Month'),\n",
        "    y=alt.Y('Count:Q', title='Number of Thefts'),\n",
        "    tooltip=['Month', 'Count']\n",
        ").properties(\n",
        "    title='Monthly Theft Reports in Chicago',\n",
        "    width=700,\n",
        "    height=400\n",
        ").interactive()\n",
        "theft_chart"
      ],
      "metadata": {
        "colab": {
          "base_uri": "https://localhost:8080/",
          "height": 485
        },
        "id": "DdjQWgSx4tl_",
        "outputId": "be119088-ec0e-4c25-dde6-833972aeedd4"
      },
      "execution_count": 2,
      "outputs": [
        {
          "output_type": "execute_result",
          "data": {
            "text/html": [
              "\n",
              "<style>\n",
              "  #altair-viz-88017a67d0fc4385b5815e43d5331bb8.vega-embed {\n",
              "    width: 100%;\n",
              "    display: flex;\n",
              "  }\n",
              "\n",
              "  #altair-viz-88017a67d0fc4385b5815e43d5331bb8.vega-embed details,\n",
              "  #altair-viz-88017a67d0fc4385b5815e43d5331bb8.vega-embed details summary {\n",
              "    position: relative;\n",
              "  }\n",
              "</style>\n",
              "<div id=\"altair-viz-88017a67d0fc4385b5815e43d5331bb8\"></div>\n",
              "<script type=\"text/javascript\">\n",
              "  var VEGA_DEBUG = (typeof VEGA_DEBUG == \"undefined\") ? {} : VEGA_DEBUG;\n",
              "  (function(spec, embedOpt){\n",
              "    let outputDiv = document.currentScript.previousElementSibling;\n",
              "    if (outputDiv.id !== \"altair-viz-88017a67d0fc4385b5815e43d5331bb8\") {\n",
              "      outputDiv = document.getElementById(\"altair-viz-88017a67d0fc4385b5815e43d5331bb8\");\n",
              "    }\n",
              "\n",
              "    const paths = {\n",
              "      \"vega\": \"https://cdn.jsdelivr.net/npm/vega@5?noext\",\n",
              "      \"vega-lib\": \"https://cdn.jsdelivr.net/npm/vega-lib?noext\",\n",
              "      \"vega-lite\": \"https://cdn.jsdelivr.net/npm/vega-lite@5.20.1?noext\",\n",
              "      \"vega-embed\": \"https://cdn.jsdelivr.net/npm/vega-embed@6?noext\",\n",
              "    };\n",
              "\n",
              "    function maybeLoadScript(lib, version) {\n",
              "      var key = `${lib.replace(\"-\", \"\")}_version`;\n",
              "      return (VEGA_DEBUG[key] == version) ?\n",
              "        Promise.resolve(paths[lib]) :\n",
              "        new Promise(function(resolve, reject) {\n",
              "          var s = document.createElement('script');\n",
              "          document.getElementsByTagName(\"head\")[0].appendChild(s);\n",
              "          s.async = true;\n",
              "          s.onload = () => {\n",
              "            VEGA_DEBUG[key] = version;\n",
              "            return resolve(paths[lib]);\n",
              "          };\n",
              "          s.onerror = () => reject(`Error loading script: ${paths[lib]}`);\n",
              "          s.src = paths[lib];\n",
              "        });\n",
              "    }\n",
              "\n",
              "    function showError(err) {\n",
              "      outputDiv.innerHTML = `<div class=\"error\" style=\"color:red;\">${err}</div>`;\n",
              "      throw err;\n",
              "    }\n",
              "\n",
              "    function displayChart(vegaEmbed) {\n",
              "      vegaEmbed(outputDiv, spec, embedOpt)\n",
              "        .catch(err => showError(`Javascript Error: ${err.message}<br>This usually means there's a typo in your chart specification. See the javascript console for the full traceback.`));\n",
              "    }\n",
              "\n",
              "    if(typeof define === \"function\" && define.amd) {\n",
              "      requirejs.config({paths});\n",
              "      let deps = [\"vega-embed\"];\n",
              "      require(deps, displayChart, err => showError(`Error loading script: ${err.message}`));\n",
              "    } else {\n",
              "      maybeLoadScript(\"vega\", \"5\")\n",
              "        .then(() => maybeLoadScript(\"vega-lite\", \"5.20.1\"))\n",
              "        .then(() => maybeLoadScript(\"vega-embed\", \"6\"))\n",
              "        .catch(showError)\n",
              "        .then(() => displayChart(vegaEmbed));\n",
              "    }\n",
              "  })({\"config\": {\"view\": {\"continuousWidth\": 300, \"continuousHeight\": 300}}, \"data\": {\"name\": \"data-76d409ff0254421244dbec21a333caeb\"}, \"mark\": {\"type\": \"line\", \"point\": true}, \"encoding\": {\"tooltip\": [{\"field\": \"Month\", \"type\": \"nominal\"}, {\"field\": \"Count\", \"type\": \"quantitative\"}], \"x\": {\"field\": \"Month\", \"title\": \"Month\", \"type\": \"temporal\"}, \"y\": {\"field\": \"Count\", \"title\": \"Number of Thefts\", \"type\": \"quantitative\"}}, \"height\": 400, \"params\": [{\"name\": \"param_1\", \"select\": {\"type\": \"interval\", \"encodings\": [\"x\", \"y\"]}, \"bind\": \"scales\"}], \"title\": \"Monthly Theft Reports in Chicago\", \"width\": 700, \"$schema\": \"https://vega.github.io/schema/vega-lite/v5.20.1.json\", \"datasets\": {\"data-76d409ff0254421244dbec21a333caeb\": [{\"Month\": \"2024-04\", \"Count\": 2286}, {\"Month\": \"2024-05\", \"Count\": 5196}, {\"Month\": \"2024-06\", \"Count\": 5483}, {\"Month\": \"2024-07\", \"Count\": 6054}, {\"Month\": \"2024-08\", \"Count\": 5705}, {\"Month\": \"2024-09\", \"Count\": 5379}, {\"Month\": \"2024-10\", \"Count\": 5488}, {\"Month\": \"2024-11\", \"Count\": 4668}, {\"Month\": \"2024-12\", \"Count\": 4665}, {\"Month\": \"2025-01\", \"Count\": 4280}, {\"Month\": \"2025-02\", \"Count\": 3882}, {\"Month\": \"2025-03\", \"Count\": 4412}, {\"Month\": \"2025-04\", \"Count\": 1863}]}}, {\"mode\": \"vega-lite\"});\n",
              "</script>"
            ],
            "text/plain": [
              "alt.Chart(...)"
            ]
          },
          "metadata": {},
          "execution_count": 2
        }
      ]
    },
    {
      "cell_type": "code",
      "source": [
        "top_crimes = df[' PRIMARY DESCRIPTION'].value_counts().nlargest(10).reset_index()\n",
        "top_crimes.columns = ['Crime Type', 'Count']\n",
        "\n",
        "top_crimes_chart=alt.Chart(top_crimes).mark_bar().encode(\n",
        "    x=alt.X('Count:Q'),\n",
        "    y=alt.Y('Crime Type:N', sort='-x'),\n",
        "    color='Crime Type:N',\n",
        "    tooltip=['Crime Type', 'Count']\n",
        ").properties(\n",
        "    title='Top 10 Reported Crimes in Chicago',\n",
        "    width=700,\n",
        "    height=400\n",
        ")\n",
        "top_crimes_chart"
      ],
      "metadata": {
        "colab": {
          "base_uri": "https://localhost:8080/",
          "height": 480
        },
        "id": "34rIgxGk5Y0o",
        "outputId": "8ea636a6-d42d-48ff-e7db-4fc5844e8c50"
      },
      "execution_count": 3,
      "outputs": [
        {
          "output_type": "execute_result",
          "data": {
            "text/html": [
              "\n",
              "<style>\n",
              "  #altair-viz-ca737c9b3133491ba8fe660c46d61265.vega-embed {\n",
              "    width: 100%;\n",
              "    display: flex;\n",
              "  }\n",
              "\n",
              "  #altair-viz-ca737c9b3133491ba8fe660c46d61265.vega-embed details,\n",
              "  #altair-viz-ca737c9b3133491ba8fe660c46d61265.vega-embed details summary {\n",
              "    position: relative;\n",
              "  }\n",
              "</style>\n",
              "<div id=\"altair-viz-ca737c9b3133491ba8fe660c46d61265\"></div>\n",
              "<script type=\"text/javascript\">\n",
              "  var VEGA_DEBUG = (typeof VEGA_DEBUG == \"undefined\") ? {} : VEGA_DEBUG;\n",
              "  (function(spec, embedOpt){\n",
              "    let outputDiv = document.currentScript.previousElementSibling;\n",
              "    if (outputDiv.id !== \"altair-viz-ca737c9b3133491ba8fe660c46d61265\") {\n",
              "      outputDiv = document.getElementById(\"altair-viz-ca737c9b3133491ba8fe660c46d61265\");\n",
              "    }\n",
              "\n",
              "    const paths = {\n",
              "      \"vega\": \"https://cdn.jsdelivr.net/npm/vega@5?noext\",\n",
              "      \"vega-lib\": \"https://cdn.jsdelivr.net/npm/vega-lib?noext\",\n",
              "      \"vega-lite\": \"https://cdn.jsdelivr.net/npm/vega-lite@5.20.1?noext\",\n",
              "      \"vega-embed\": \"https://cdn.jsdelivr.net/npm/vega-embed@6?noext\",\n",
              "    };\n",
              "\n",
              "    function maybeLoadScript(lib, version) {\n",
              "      var key = `${lib.replace(\"-\", \"\")}_version`;\n",
              "      return (VEGA_DEBUG[key] == version) ?\n",
              "        Promise.resolve(paths[lib]) :\n",
              "        new Promise(function(resolve, reject) {\n",
              "          var s = document.createElement('script');\n",
              "          document.getElementsByTagName(\"head\")[0].appendChild(s);\n",
              "          s.async = true;\n",
              "          s.onload = () => {\n",
              "            VEGA_DEBUG[key] = version;\n",
              "            return resolve(paths[lib]);\n",
              "          };\n",
              "          s.onerror = () => reject(`Error loading script: ${paths[lib]}`);\n",
              "          s.src = paths[lib];\n",
              "        });\n",
              "    }\n",
              "\n",
              "    function showError(err) {\n",
              "      outputDiv.innerHTML = `<div class=\"error\" style=\"color:red;\">${err}</div>`;\n",
              "      throw err;\n",
              "    }\n",
              "\n",
              "    function displayChart(vegaEmbed) {\n",
              "      vegaEmbed(outputDiv, spec, embedOpt)\n",
              "        .catch(err => showError(`Javascript Error: ${err.message}<br>This usually means there's a typo in your chart specification. See the javascript console for the full traceback.`));\n",
              "    }\n",
              "\n",
              "    if(typeof define === \"function\" && define.amd) {\n",
              "      requirejs.config({paths});\n",
              "      let deps = [\"vega-embed\"];\n",
              "      require(deps, displayChart, err => showError(`Error loading script: ${err.message}`));\n",
              "    } else {\n",
              "      maybeLoadScript(\"vega\", \"5\")\n",
              "        .then(() => maybeLoadScript(\"vega-lite\", \"5.20.1\"))\n",
              "        .then(() => maybeLoadScript(\"vega-embed\", \"6\"))\n",
              "        .catch(showError)\n",
              "        .then(() => displayChart(vegaEmbed));\n",
              "    }\n",
              "  })({\"config\": {\"view\": {\"continuousWidth\": 300, \"continuousHeight\": 300}}, \"data\": {\"name\": \"data-7fcfb258757a6fe2e372e6385e47fdff\"}, \"mark\": {\"type\": \"bar\"}, \"encoding\": {\"color\": {\"field\": \"Crime Type\", \"type\": \"nominal\"}, \"tooltip\": [{\"field\": \"Crime Type\", \"type\": \"nominal\"}, {\"field\": \"Count\", \"type\": \"quantitative\"}], \"x\": {\"field\": \"Count\", \"type\": \"quantitative\"}, \"y\": {\"field\": \"Crime Type\", \"sort\": \"-x\", \"type\": \"nominal\"}}, \"height\": 400, \"title\": \"Top 10 Reported Crimes in Chicago\", \"width\": 700, \"$schema\": \"https://vega.github.io/schema/vega-lite/v5.20.1.json\", \"datasets\": {\"data-7fcfb258757a6fe2e372e6385e47fdff\": [{\"Crime Type\": \"THEFT\", \"Count\": 59361}, {\"Crime Type\": \"BATTERY\", \"Count\": 44588}, {\"Crime Type\": \"CRIMINAL DAMAGE\", \"Count\": 27196}, {\"Crime Type\": \"ASSAULT\", \"Count\": 22686}, {\"Crime Type\": \"MOTOR VEHICLE THEFT\", \"Count\": 19591}, {\"Crime Type\": \"OTHER OFFENSE\", \"Count\": 16847}, {\"Crime Type\": \"DECEPTIVE PRACTICE\", \"Count\": 14994}, {\"Crime Type\": \"BURGLARY\", \"Count\": 8466}, {\"Crime Type\": \"ROBBERY\", \"Count\": 8179}, {\"Crime Type\": \"WEAPONS VIOLATION\", \"Count\": 7145}]}}, {\"mode\": \"vega-lite\"});\n",
              "</script>"
            ],
            "text/plain": [
              "alt.Chart(...)"
            ]
          },
          "metadata": {},
          "execution_count": 3
        }
      ]
    },
    {
      "cell_type": "code",
      "source": [
        "arrest_counts = df.groupby([' PRIMARY DESCRIPTION', 'ARREST']).size().unstack(fill_value=0)\n",
        "\n",
        "true_col = 'Y'\n",
        "false_col = 'N'\n",
        "\n",
        "true_vals = arrest_counts[true_col] if true_col in arrest_counts else 0\n",
        "false_vals = arrest_counts[false_col] if false_col in arrest_counts else 0\n",
        "\n",
        "total_counts = true_vals + false_vals\n",
        "non_zero_index = total_counts[total_counts > 0].index\n",
        "\n",
        "arrest_counts = arrest_counts.loc[non_zero_index]\n",
        "arrest_counts['Arrest Rate'] = true_vals.loc[non_zero_index] / total_counts.loc[non_zero_index]\n",
        "\n",
        "arrest_top = arrest_counts.reset_index().sort_values('Arrest Rate', ascending=False).head(10)\n",
        "\n",
        "arrest_chart=alt.Chart(arrest_top).mark_bar().encode(\n",
        "    x=alt.X('Arrest Rate:Q'),\n",
        "    y=alt.Y(' PRIMARY DESCRIPTION:N', sort='-x', title='Crime Type'),\n",
        "    tooltip=[' PRIMARY DESCRIPTION', 'Arrest Rate']\n",
        ").properties(\n",
        "    title='Top Crime Types by Arrest Rate',\n",
        "    width=700,\n",
        "    height=400\n",
        ")\n",
        "arrest_chart"
      ],
      "metadata": {
        "colab": {
          "base_uri": "https://localhost:8080/",
          "height": 480
        },
        "id": "rHPIEwfv6EHx",
        "outputId": "62b7e213-a0fe-4e33-9e9e-0083db5cdc8e"
      },
      "execution_count": 4,
      "outputs": [
        {
          "output_type": "execute_result",
          "data": {
            "text/html": [
              "\n",
              "<style>\n",
              "  #altair-viz-6e6dd62147c546c48de5b15f67b9ebcf.vega-embed {\n",
              "    width: 100%;\n",
              "    display: flex;\n",
              "  }\n",
              "\n",
              "  #altair-viz-6e6dd62147c546c48de5b15f67b9ebcf.vega-embed details,\n",
              "  #altair-viz-6e6dd62147c546c48de5b15f67b9ebcf.vega-embed details summary {\n",
              "    position: relative;\n",
              "  }\n",
              "</style>\n",
              "<div id=\"altair-viz-6e6dd62147c546c48de5b15f67b9ebcf\"></div>\n",
              "<script type=\"text/javascript\">\n",
              "  var VEGA_DEBUG = (typeof VEGA_DEBUG == \"undefined\") ? {} : VEGA_DEBUG;\n",
              "  (function(spec, embedOpt){\n",
              "    let outputDiv = document.currentScript.previousElementSibling;\n",
              "    if (outputDiv.id !== \"altair-viz-6e6dd62147c546c48de5b15f67b9ebcf\") {\n",
              "      outputDiv = document.getElementById(\"altair-viz-6e6dd62147c546c48de5b15f67b9ebcf\");\n",
              "    }\n",
              "\n",
              "    const paths = {\n",
              "      \"vega\": \"https://cdn.jsdelivr.net/npm/vega@5?noext\",\n",
              "      \"vega-lib\": \"https://cdn.jsdelivr.net/npm/vega-lib?noext\",\n",
              "      \"vega-lite\": \"https://cdn.jsdelivr.net/npm/vega-lite@5.20.1?noext\",\n",
              "      \"vega-embed\": \"https://cdn.jsdelivr.net/npm/vega-embed@6?noext\",\n",
              "    };\n",
              "\n",
              "    function maybeLoadScript(lib, version) {\n",
              "      var key = `${lib.replace(\"-\", \"\")}_version`;\n",
              "      return (VEGA_DEBUG[key] == version) ?\n",
              "        Promise.resolve(paths[lib]) :\n",
              "        new Promise(function(resolve, reject) {\n",
              "          var s = document.createElement('script');\n",
              "          document.getElementsByTagName(\"head\")[0].appendChild(s);\n",
              "          s.async = true;\n",
              "          s.onload = () => {\n",
              "            VEGA_DEBUG[key] = version;\n",
              "            return resolve(paths[lib]);\n",
              "          };\n",
              "          s.onerror = () => reject(`Error loading script: ${paths[lib]}`);\n",
              "          s.src = paths[lib];\n",
              "        });\n",
              "    }\n",
              "\n",
              "    function showError(err) {\n",
              "      outputDiv.innerHTML = `<div class=\"error\" style=\"color:red;\">${err}</div>`;\n",
              "      throw err;\n",
              "    }\n",
              "\n",
              "    function displayChart(vegaEmbed) {\n",
              "      vegaEmbed(outputDiv, spec, embedOpt)\n",
              "        .catch(err => showError(`Javascript Error: ${err.message}<br>This usually means there's a typo in your chart specification. See the javascript console for the full traceback.`));\n",
              "    }\n",
              "\n",
              "    if(typeof define === \"function\" && define.amd) {\n",
              "      requirejs.config({paths});\n",
              "      let deps = [\"vega-embed\"];\n",
              "      require(deps, displayChart, err => showError(`Error loading script: ${err.message}`));\n",
              "    } else {\n",
              "      maybeLoadScript(\"vega\", \"5\")\n",
              "        .then(() => maybeLoadScript(\"vega-lite\", \"5.20.1\"))\n",
              "        .then(() => maybeLoadScript(\"vega-embed\", \"6\"))\n",
              "        .catch(showError)\n",
              "        .then(() => displayChart(vegaEmbed));\n",
              "    }\n",
              "  })({\"config\": {\"view\": {\"continuousWidth\": 300, \"continuousHeight\": 300}}, \"data\": {\"name\": \"data-fbed34edfc60f57723f5e6a5b5f36d2d\"}, \"mark\": {\"type\": \"bar\"}, \"encoding\": {\"tooltip\": [{\"field\": \" PRIMARY DESCRIPTION\", \"type\": \"nominal\"}, {\"field\": \"Arrest Rate\", \"type\": \"quantitative\"}], \"x\": {\"field\": \"Arrest Rate\", \"type\": \"quantitative\"}, \"y\": {\"field\": \" PRIMARY DESCRIPTION\", \"sort\": \"-x\", \"title\": \"Crime Type\", \"type\": \"nominal\"}}, \"height\": 400, \"title\": \"Top Crime Types by Arrest Rate\", \"width\": 700, \"$schema\": \"https://vega.github.io/schema/vega-lite/v5.20.1.json\", \"datasets\": {\"data-fbed34edfc60f57723f5e6a5b5f36d2d\": [{\" PRIMARY DESCRIPTION\": \"GAMBLING\", \"N\": 0, \"Y\": 18, \"Arrest Rate\": 1.0}, {\" PRIMARY DESCRIPTION\": \"CONCEALED CARRY LICENSE VIOLATION\", \"N\": 3, \"Y\": 247, \"Arrest Rate\": 0.988}, {\" PRIMARY DESCRIPTION\": \"LIQUOR LAW VIOLATION\", \"N\": 7, \"Y\": 186, \"Arrest Rate\": 0.9637305699481865}, {\" PRIMARY DESCRIPTION\": \"NARCOTICS\", \"N\": 279, \"Y\": 6392, \"Arrest Rate\": 0.9581771848298606}, {\" PRIMARY DESCRIPTION\": \"PROSTITUTION\", \"N\": 14, \"Y\": 273, \"Arrest Rate\": 0.9512195121951219}, {\" PRIMARY DESCRIPTION\": \"PUBLIC INDECENCY\", \"N\": 1, \"Y\": 12, \"Arrest Rate\": 0.9230769230769231}, {\" PRIMARY DESCRIPTION\": \"INTERFERENCE WITH PUBLIC OFFICER\", \"N\": 81, \"Y\": 691, \"Arrest Rate\": 0.8950777202072538}, {\" PRIMARY DESCRIPTION\": \"NON-CRIMINAL\", \"N\": 1, \"Y\": 3, \"Arrest Rate\": 0.75}, {\" PRIMARY DESCRIPTION\": \"WEAPONS VIOLATION\", \"N\": 2501, \"Y\": 4644, \"Arrest Rate\": 0.649965010496851}, {\" PRIMARY DESCRIPTION\": \"OBSCENITY\", \"N\": 25, \"Y\": 28, \"Arrest Rate\": 0.5283018867924528}]}}, {\"mode\": \"vega-lite\"});\n",
              "</script>"
            ],
            "text/plain": [
              "alt.Chart(...)"
            ]
          },
          "metadata": {},
          "execution_count": 4
        }
      ]
    },
    {
      "cell_type": "markdown",
      "source": [
        "## Making Sense of Crime in Chicago\n",
        "\n",
        "This public dashboard explores crime in Chicago over the past year using data from the city's open data portal. Our central visualization focuses on theft, the most frequently reported crime. The trendline reveals seasonal variation in theft activity, with peaks during the holiday months and dips in the warmer summer periods. This interactive chart helps users intuitively observe how theft evolves over time.\n",
        "\n",
        "To add broader context, we also explore the top 10 crime types, revealing that battery, criminal damage, and assault follow closely behind theft. These categories show where police resources are likely most needed. We also dive into arrest rates by crime type — crimes like narcotics and weapons violations have much higher arrest rates than property crimes, which may suggest a focus on proactive enforcement rather than reactive response.\n",
        "\n",
        "Together, these visualizations provide a clear and accessible view of how crime is distributed, reported, and addressed in Chicago. They serve as tools for both concerned citizens and policymakers looking to make informed, data-driven decisions."
      ],
      "metadata": {
        "id": "sU5ZtYHH72us"
      }
    },
    {
      "cell_type": "markdown",
      "source": [
        "## Sources & Citations\n",
        "\n",
        "- [Crimes Dataset – City of Chicago](https://data.cityofchicago.org/Public-Safety/Crimes-One-year-prior-to-present/ijzp-q8t2)\n",
        "- [Analysis Notebook on GitHub](https://github.com/YOUR_USERNAME/YOUR_REPO/blob/main/final_notebook.ipynb)\n",
        "\n",
        "## Contextual Datasets\n",
        "\n",
        "1. [ACS 5-Year Data by Ward](https://data.cityofchicago.org/Community-Economic-Development/ACS-5-Year-Data-by-Ward/awnk-6fvc)\n",
        "2. [Chicago Population Statistics](https://data.cityofchicago.org/Health-Human-Services/Chicago-Population-Counts/85cm-7uqa)\n",
        "3. [CTA GTFS Transit Feed](https://www.transitchicago.com/downloads/sch_data/google_transit.zip)\n",
        "4. [Police District Boundaries](https://data.cityofchicago.org/Public-Safety/Boundaries-Police-Districts-current-/fthy-xz3r)\n",
        "5. [Streetlights All Out Map](https://data.cityofchicago.org/Service-Requests/Map-of-Street-Lights-All-Out/5w22-e46m)"
      ],
      "metadata": {
        "id": "dnlsJ0TY8CU5"
      }
    },
    {
      "cell_type": "code",
      "source": [
        "theft_chart.save('theft_chart.html')\n",
        "top_crimes_chart.save('top_crimes_chart.html')\n",
        "arrest_chart.save('arrest_chart.html')"
      ],
      "metadata": {
        "id": "wSihmR5T9CM2"
      },
      "execution_count": 5,
      "outputs": []
    }
  ]
}